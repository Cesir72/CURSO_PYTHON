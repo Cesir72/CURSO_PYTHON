{
  "nbformat": 4,
  "nbformat_minor": 0,
  "metadata": {
    "colab": {
      "provenance": [],
      "toc_visible": true,
      "history_visible": true,
      "authorship_tag": "ABX9TyM7KCXQH9N94689jBUXUcuk",
      "include_colab_link": true
    },
    "kernelspec": {
      "name": "python3",
      "display_name": "Python 3"
    },
    "language_info": {
      "name": "python"
    }
  },
  "cells": [
    {
      "cell_type": "markdown",
      "metadata": {
        "id": "view-in-github",
        "colab_type": "text"
      },
      "source": [
        "<a href=\"https://colab.research.google.com/github/Cesir72/CURSO_PYTHON/blob/main/EjemploHerenciaClasesHijas.ipynb\" target=\"_parent\"><img src=\"https://colab.research.google.com/assets/colab-badge.svg\" alt=\"Open In Colab\"/></a>"
      ]
    },
    {
      "cell_type": "markdown",
      "source": [
        "Definir una clase padre llamada Vehiculo y dos clases hijas llamadas Coche y Bicicleta,\n",
        "las cuales heredan de la clase Padre Vehiculo.\n",
        "La clase padre debe tener los siguientes atributos y métodos\n"
      ],
      "metadata": {
        "id": "6KFqwevnJzdp"
      }
    },
    {
      "cell_type": "code",
      "execution_count": null,
      "metadata": {
        "colab": {
          "base_uri": "https://localhost:8080/"
        },
        "id": "nDJEtihsFhmy",
        "outputId": "29bb7333-b081-4fa6-85b2-d3e4f2b4afea"
      },
      "outputs": [
        {
          "output_type": "stream",
          "name": "stdout",
          "text": [
            "Color: Rojo, Ruedas: 4\n",
            "Color: Azul, Ruedas: 4, Velocidad (km/hr): 150\n",
            "Color: Blanca, Ruedas: 2, Tipo: Urbano\n"
          ]
        }
      ],
      "source": [
        "class Vehiculo:\n",
        "\tdef __init__(self, color, ruedas):\n",
        "\n",
        "\t\tself.color = color\n",
        "\t\tself.ruedas = ruedas\n",
        "\n",
        "\tdef __str__(self):\n",
        "\t\treturn 'Color: ' + self.color + ', Ruedas: ' + str(self.ruedas)\n",
        "\n",
        "\n",
        "class Coche(Vehiculo):\n",
        "\tdef __init__(self, color, ruedas, velocidad):\n",
        "\t\tsuper().__init__(color, ruedas)\n",
        "\t\tself.velocidad = velocidad\n",
        "\tdef __str__(self):\n",
        "\t\treturn super().__str__() + ', Velocidad (km/hr): ' + str(self.velocidad)\n",
        "\n",
        "class Bicicleta(Vehiculo):\n",
        "\tdef __init__(self, color, ruedas, tipo):\n",
        "\t\tsuper().__init__(color, ruedas)\n",
        "\t\tself.tipo = tipo\n",
        "\tdef __str__(self):\n",
        "\t\treturn super().__str__() + ', Tipo: ' + self.tipo\n",
        "\n",
        "# Creamos un objeto de la clase Vehiculo\n",
        "vehiculo = Vehiculo('Rojo', 4)\n",
        "print(vehiculo)\n",
        "# Creamos un objeto de la clase hija Coche\n",
        "coche = Coche('Azul', 4, 150)\n",
        "print(coche)\n",
        "# Creamos un objeto de la clase hija Bicicleta\n",
        "bicicleta = Bicicleta('Blanca', 2, 'Urbano')\n",
        "print(bicicleta)\n"
      ]
    },
    {
      "cell_type": "markdown",
      "source": [
        "Ejemplo POO con Herencias Multiples"
      ],
      "metadata": {
        "id": "QcNpYc0HJbe9"
      }
    },
    {
      "cell_type": "code",
      "source": [],
      "metadata": {
        "id": "M_BHB9XgJqlD"
      },
      "execution_count": null,
      "outputs": []
    },
    {
      "cell_type": "markdown",
      "source": [],
      "metadata": {
        "id": "6rZ4_vgjJsAE"
      }
    }
  ]
}